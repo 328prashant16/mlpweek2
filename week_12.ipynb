{
  "nbformat": 4,
  "nbformat_minor": 0,
  "metadata": {
    "colab": {
      "provenance": [],
      "authorship_tag": "ABX9TyMkmWTRCokgKiz64+HXkj+l",
      "include_colab_link": true
    },
    "kernelspec": {
      "name": "python3",
      "display_name": "Python 3"
    },
    "language_info": {
      "name": "python"
    }
  },
  "cells": [
    {
      "cell_type": "markdown",
      "metadata": {
        "id": "view-in-github",
        "colab_type": "text"
      },
      "source": [
        "<a href=\"https://colab.research.google.com/github/328prashant16/mlpweek2/blob/main/week_12.ipynb\" target=\"_parent\"><img src=\"https://colab.research.google.com/assets/colab-badge.svg\" alt=\"Open In Colab\"/></a>"
      ]
    },
    {
      "cell_type": "code",
      "source": [
        "import numpy as np\n",
        "import pandas as pd\n"
      ],
      "metadata": {
        "id": "LyypWdAQkaqk"
      },
      "execution_count": 115,
      "outputs": []
    },
    {
      "cell_type": "markdown",
      "source": [
        "load the nutrition dataset as a pandas dateframe.\n"
      ],
      "metadata": {
        "id": "dv9v_fx9hTc4"
      }
    },
    {
      "cell_type": "code",
      "source": [
        "df = pd.read_csv(\"/content/nutrition (1).csv\")"
      ],
      "metadata": {
        "id": "J02iGoAxNq_1"
      },
      "execution_count": 116,
      "outputs": []
    },
    {
      "cell_type": "code",
      "source": [
        "df.head(3)"
      ],
      "metadata": {
        "colab": {
          "base_uri": "https://localhost:8080/",
          "height": 306
        },
        "id": "hNFF9xxmhiR6",
        "outputId": "3c189287-ee4b-4752-911a-5c8d7ed24096"
      },
      "execution_count": 117,
      "outputs": [
        {
          "output_type": "execute_result",
          "data": {
            "text/plain": [
              "   Unnamed: 0           name serving_size  calories total_fat saturated_fat  \\\n",
              "0           0     Cornstarch        100 g       381      0.1g           NaN   \n",
              "1           1   Nuts, pecans        100 g       691       72g          6.2g   \n",
              "2           2  Eggplant, raw        100 g        25      0.2g           NaN   \n",
              "\n",
              "  cholesterol   sodium  choline     folate  ...      fat  \\\n",
              "0           0  9.00 mg   0.4 mg   0.00 mcg  ...   0.05 g   \n",
              "1           0  0.00 mg  40.5 mg  22.00 mcg  ...  71.97 g   \n",
              "2           0  2.00 mg   6.9 mg  22.00 mcg  ...   0.18 g   \n",
              "\n",
              "  saturated_fatty_acids monounsaturated_fatty_acids  \\\n",
              "0               0.009 g                     0.016 g   \n",
              "1               6.180 g                    40.801 g   \n",
              "2               0.034 g                     0.016 g   \n",
              "\n",
              "  polyunsaturated_fatty_acids fatty_acids_total_trans alcohol     ash  \\\n",
              "0                     0.025 g                 0.00 mg   0.0 g  0.09 g   \n",
              "1                    21.614 g                 0.00 mg   0.0 g  1.49 g   \n",
              "2                     0.076 g                 0.00 mg   0.0 g  0.66 g   \n",
              "\n",
              "  caffeine theobromine    water  \n",
              "0  0.00 mg     0.00 mg   8.32 g  \n",
              "1  0.00 mg     0.00 mg   3.52 g  \n",
              "2  0.00 mg     0.00 mg  92.30 g  \n",
              "\n",
              "[3 rows x 77 columns]"
            ],
            "text/html": [
              "\n",
              "  <div id=\"df-fe53b9b1-c554-4e3a-a7fe-42242abcee8c\">\n",
              "    <div class=\"colab-df-container\">\n",
              "      <div>\n",
              "<style scoped>\n",
              "    .dataframe tbody tr th:only-of-type {\n",
              "        vertical-align: middle;\n",
              "    }\n",
              "\n",
              "    .dataframe tbody tr th {\n",
              "        vertical-align: top;\n",
              "    }\n",
              "\n",
              "    .dataframe thead th {\n",
              "        text-align: right;\n",
              "    }\n",
              "</style>\n",
              "<table border=\"1\" class=\"dataframe\">\n",
              "  <thead>\n",
              "    <tr style=\"text-align: right;\">\n",
              "      <th></th>\n",
              "      <th>Unnamed: 0</th>\n",
              "      <th>name</th>\n",
              "      <th>serving_size</th>\n",
              "      <th>calories</th>\n",
              "      <th>total_fat</th>\n",
              "      <th>saturated_fat</th>\n",
              "      <th>cholesterol</th>\n",
              "      <th>sodium</th>\n",
              "      <th>choline</th>\n",
              "      <th>folate</th>\n",
              "      <th>...</th>\n",
              "      <th>fat</th>\n",
              "      <th>saturated_fatty_acids</th>\n",
              "      <th>monounsaturated_fatty_acids</th>\n",
              "      <th>polyunsaturated_fatty_acids</th>\n",
              "      <th>fatty_acids_total_trans</th>\n",
              "      <th>alcohol</th>\n",
              "      <th>ash</th>\n",
              "      <th>caffeine</th>\n",
              "      <th>theobromine</th>\n",
              "      <th>water</th>\n",
              "    </tr>\n",
              "  </thead>\n",
              "  <tbody>\n",
              "    <tr>\n",
              "      <th>0</th>\n",
              "      <td>0</td>\n",
              "      <td>Cornstarch</td>\n",
              "      <td>100 g</td>\n",
              "      <td>381</td>\n",
              "      <td>0.1g</td>\n",
              "      <td>NaN</td>\n",
              "      <td>0</td>\n",
              "      <td>9.00 mg</td>\n",
              "      <td>0.4 mg</td>\n",
              "      <td>0.00 mcg</td>\n",
              "      <td>...</td>\n",
              "      <td>0.05 g</td>\n",
              "      <td>0.009 g</td>\n",
              "      <td>0.016 g</td>\n",
              "      <td>0.025 g</td>\n",
              "      <td>0.00 mg</td>\n",
              "      <td>0.0 g</td>\n",
              "      <td>0.09 g</td>\n",
              "      <td>0.00 mg</td>\n",
              "      <td>0.00 mg</td>\n",
              "      <td>8.32 g</td>\n",
              "    </tr>\n",
              "    <tr>\n",
              "      <th>1</th>\n",
              "      <td>1</td>\n",
              "      <td>Nuts, pecans</td>\n",
              "      <td>100 g</td>\n",
              "      <td>691</td>\n",
              "      <td>72g</td>\n",
              "      <td>6.2g</td>\n",
              "      <td>0</td>\n",
              "      <td>0.00 mg</td>\n",
              "      <td>40.5 mg</td>\n",
              "      <td>22.00 mcg</td>\n",
              "      <td>...</td>\n",
              "      <td>71.97 g</td>\n",
              "      <td>6.180 g</td>\n",
              "      <td>40.801 g</td>\n",
              "      <td>21.614 g</td>\n",
              "      <td>0.00 mg</td>\n",
              "      <td>0.0 g</td>\n",
              "      <td>1.49 g</td>\n",
              "      <td>0.00 mg</td>\n",
              "      <td>0.00 mg</td>\n",
              "      <td>3.52 g</td>\n",
              "    </tr>\n",
              "    <tr>\n",
              "      <th>2</th>\n",
              "      <td>2</td>\n",
              "      <td>Eggplant, raw</td>\n",
              "      <td>100 g</td>\n",
              "      <td>25</td>\n",
              "      <td>0.2g</td>\n",
              "      <td>NaN</td>\n",
              "      <td>0</td>\n",
              "      <td>2.00 mg</td>\n",
              "      <td>6.9 mg</td>\n",
              "      <td>22.00 mcg</td>\n",
              "      <td>...</td>\n",
              "      <td>0.18 g</td>\n",
              "      <td>0.034 g</td>\n",
              "      <td>0.016 g</td>\n",
              "      <td>0.076 g</td>\n",
              "      <td>0.00 mg</td>\n",
              "      <td>0.0 g</td>\n",
              "      <td>0.66 g</td>\n",
              "      <td>0.00 mg</td>\n",
              "      <td>0.00 mg</td>\n",
              "      <td>92.30 g</td>\n",
              "    </tr>\n",
              "  </tbody>\n",
              "</table>\n",
              "<p>3 rows × 77 columns</p>\n",
              "</div>\n",
              "      <button class=\"colab-df-convert\" onclick=\"convertToInteractive('df-fe53b9b1-c554-4e3a-a7fe-42242abcee8c')\"\n",
              "              title=\"Convert this dataframe to an interactive table.\"\n",
              "              style=\"display:none;\">\n",
              "        \n",
              "  <svg xmlns=\"http://www.w3.org/2000/svg\" height=\"24px\"viewBox=\"0 0 24 24\"\n",
              "       width=\"24px\">\n",
              "    <path d=\"M0 0h24v24H0V0z\" fill=\"none\"/>\n",
              "    <path d=\"M18.56 5.44l.94 2.06.94-2.06 2.06-.94-2.06-.94-.94-2.06-.94 2.06-2.06.94zm-11 1L8.5 8.5l.94-2.06 2.06-.94-2.06-.94L8.5 2.5l-.94 2.06-2.06.94zm10 10l.94 2.06.94-2.06 2.06-.94-2.06-.94-.94-2.06-.94 2.06-2.06.94z\"/><path d=\"M17.41 7.96l-1.37-1.37c-.4-.4-.92-.59-1.43-.59-.52 0-1.04.2-1.43.59L10.3 9.45l-7.72 7.72c-.78.78-.78 2.05 0 2.83L4 21.41c.39.39.9.59 1.41.59.51 0 1.02-.2 1.41-.59l7.78-7.78 2.81-2.81c.8-.78.8-2.07 0-2.86zM5.41 20L4 18.59l7.72-7.72 1.47 1.35L5.41 20z\"/>\n",
              "  </svg>\n",
              "      </button>\n",
              "      \n",
              "  <style>\n",
              "    .colab-df-container {\n",
              "      display:flex;\n",
              "      flex-wrap:wrap;\n",
              "      gap: 12px;\n",
              "    }\n",
              "\n",
              "    .colab-df-convert {\n",
              "      background-color: #E8F0FE;\n",
              "      border: none;\n",
              "      border-radius: 50%;\n",
              "      cursor: pointer;\n",
              "      display: none;\n",
              "      fill: #1967D2;\n",
              "      height: 32px;\n",
              "      padding: 0 0 0 0;\n",
              "      width: 32px;\n",
              "    }\n",
              "\n",
              "    .colab-df-convert:hover {\n",
              "      background-color: #E2EBFA;\n",
              "      box-shadow: 0px 1px 2px rgba(60, 64, 67, 0.3), 0px 1px 3px 1px rgba(60, 64, 67, 0.15);\n",
              "      fill: #174EA6;\n",
              "    }\n",
              "\n",
              "    [theme=dark] .colab-df-convert {\n",
              "      background-color: #3B4455;\n",
              "      fill: #D2E3FC;\n",
              "    }\n",
              "\n",
              "    [theme=dark] .colab-df-convert:hover {\n",
              "      background-color: #434B5C;\n",
              "      box-shadow: 0px 1px 3px 1px rgba(0, 0, 0, 0.15);\n",
              "      filter: drop-shadow(0px 1px 2px rgba(0, 0, 0, 0.3));\n",
              "      fill: #FFFFFF;\n",
              "    }\n",
              "  </style>\n",
              "\n",
              "      <script>\n",
              "        const buttonEl =\n",
              "          document.querySelector('#df-fe53b9b1-c554-4e3a-a7fe-42242abcee8c button.colab-df-convert');\n",
              "        buttonEl.style.display =\n",
              "          google.colab.kernel.accessAllowed ? 'block' : 'none';\n",
              "\n",
              "        async function convertToInteractive(key) {\n",
              "          const element = document.querySelector('#df-fe53b9b1-c554-4e3a-a7fe-42242abcee8c');\n",
              "          const dataTable =\n",
              "            await google.colab.kernel.invokeFunction('convertToInteractive',\n",
              "                                                     [key], {});\n",
              "          if (!dataTable) return;\n",
              "\n",
              "          const docLinkHtml = 'Like what you see? Visit the ' +\n",
              "            '<a target=\"_blank\" href=https://colab.research.google.com/notebooks/data_table.ipynb>data table notebook</a>'\n",
              "            + ' to learn more about interactive tables.';\n",
              "          element.innerHTML = '';\n",
              "          dataTable['output_type'] = 'display_data';\n",
              "          await google.colab.output.renderOutput(dataTable, element);\n",
              "          const docLink = document.createElement('div');\n",
              "          docLink.innerHTML = docLinkHtml;\n",
              "          element.appendChild(docLink);\n",
              "        }\n",
              "      </script>\n",
              "    </div>\n",
              "  </div>\n",
              "  "
            ]
          },
          "metadata": {},
          "execution_count": 117
        }
      ]
    },
    {
      "cell_type": "code",
      "source": [
        "df.tail(3)"
      ],
      "metadata": {
        "colab": {
          "base_uri": "https://localhost:8080/",
          "height": 532
        },
        "id": "e4ICRphphs03",
        "outputId": "41bc6d89-0690-4a65-dd9a-990154f64ade"
      },
      "execution_count": 118,
      "outputs": [
        {
          "output_type": "execute_result",
          "data": {
            "text/plain": [
              "      Unnamed: 0                                               name  \\\n",
              "8786        8786  Lamb, raw, separable lean and fat, composite o...   \n",
              "8787        8787  Beef, raw, all grades, trimmed to 0\" fat, sepa...   \n",
              "8788        8788  Beef, raw, all grades, trimmed to 0\" fat, sepa...   \n",
              "\n",
              "     serving_size  calories total_fat saturated_fat cholesterol    sodium  \\\n",
              "8786        100 g       277       23g           12g        78mg  39.00 mg   \n",
              "8787        100 g       121        3g          1.1g        60mg  53.00 mg   \n",
              "8788        100 g       121        3g          1.1g        60mg  53.00 mg   \n",
              "\n",
              "      choline    folate  ...      fat saturated_fatty_acids  \\\n",
              "8786        0  1.00 mcg  ...  22.74 g              11.570 g   \n",
              "8787  64.2 mg  4.00 mcg  ...   3.04 g               1.086 g   \n",
              "8788  64.2 mg  4.00 mcg  ...   3.04 g               1.086 g   \n",
              "\n",
              "     monounsaturated_fatty_acids polyunsaturated_fatty_acids  \\\n",
              "8786                     8.720 g                     0.980 g   \n",
              "8787                     1.266 g                     0.233 g   \n",
              "8788                     1.266 g                     0.233 g   \n",
              "\n",
              "     fatty_acids_total_trans alcohol     ash caffeine theobromine    water  \n",
              "8786                78.00 mg       0  0.92 g        0           0  59.80 g  \n",
              "8787                60.00 mg   0.0 g  1.10 g  0.00 mg     0.00 mg  73.43 g  \n",
              "8788                60.00 mg   0.0 g  1.10 g  0.00 mg     0.00 mg  73.43 g  \n",
              "\n",
              "[3 rows x 77 columns]"
            ],
            "text/html": [
              "\n",
              "  <div id=\"df-027dc290-f6e7-4992-964e-cd6e7087933f\">\n",
              "    <div class=\"colab-df-container\">\n",
              "      <div>\n",
              "<style scoped>\n",
              "    .dataframe tbody tr th:only-of-type {\n",
              "        vertical-align: middle;\n",
              "    }\n",
              "\n",
              "    .dataframe tbody tr th {\n",
              "        vertical-align: top;\n",
              "    }\n",
              "\n",
              "    .dataframe thead th {\n",
              "        text-align: right;\n",
              "    }\n",
              "</style>\n",
              "<table border=\"1\" class=\"dataframe\">\n",
              "  <thead>\n",
              "    <tr style=\"text-align: right;\">\n",
              "      <th></th>\n",
              "      <th>Unnamed: 0</th>\n",
              "      <th>name</th>\n",
              "      <th>serving_size</th>\n",
              "      <th>calories</th>\n",
              "      <th>total_fat</th>\n",
              "      <th>saturated_fat</th>\n",
              "      <th>cholesterol</th>\n",
              "      <th>sodium</th>\n",
              "      <th>choline</th>\n",
              "      <th>folate</th>\n",
              "      <th>...</th>\n",
              "      <th>fat</th>\n",
              "      <th>saturated_fatty_acids</th>\n",
              "      <th>monounsaturated_fatty_acids</th>\n",
              "      <th>polyunsaturated_fatty_acids</th>\n",
              "      <th>fatty_acids_total_trans</th>\n",
              "      <th>alcohol</th>\n",
              "      <th>ash</th>\n",
              "      <th>caffeine</th>\n",
              "      <th>theobromine</th>\n",
              "      <th>water</th>\n",
              "    </tr>\n",
              "  </thead>\n",
              "  <tbody>\n",
              "    <tr>\n",
              "      <th>8786</th>\n",
              "      <td>8786</td>\n",
              "      <td>Lamb, raw, separable lean and fat, composite o...</td>\n",
              "      <td>100 g</td>\n",
              "      <td>277</td>\n",
              "      <td>23g</td>\n",
              "      <td>12g</td>\n",
              "      <td>78mg</td>\n",
              "      <td>39.00 mg</td>\n",
              "      <td>0</td>\n",
              "      <td>1.00 mcg</td>\n",
              "      <td>...</td>\n",
              "      <td>22.74 g</td>\n",
              "      <td>11.570 g</td>\n",
              "      <td>8.720 g</td>\n",
              "      <td>0.980 g</td>\n",
              "      <td>78.00 mg</td>\n",
              "      <td>0</td>\n",
              "      <td>0.92 g</td>\n",
              "      <td>0</td>\n",
              "      <td>0</td>\n",
              "      <td>59.80 g</td>\n",
              "    </tr>\n",
              "    <tr>\n",
              "      <th>8787</th>\n",
              "      <td>8787</td>\n",
              "      <td>Beef, raw, all grades, trimmed to 0\" fat, sepa...</td>\n",
              "      <td>100 g</td>\n",
              "      <td>121</td>\n",
              "      <td>3g</td>\n",
              "      <td>1.1g</td>\n",
              "      <td>60mg</td>\n",
              "      <td>53.00 mg</td>\n",
              "      <td>64.2 mg</td>\n",
              "      <td>4.00 mcg</td>\n",
              "      <td>...</td>\n",
              "      <td>3.04 g</td>\n",
              "      <td>1.086 g</td>\n",
              "      <td>1.266 g</td>\n",
              "      <td>0.233 g</td>\n",
              "      <td>60.00 mg</td>\n",
              "      <td>0.0 g</td>\n",
              "      <td>1.10 g</td>\n",
              "      <td>0.00 mg</td>\n",
              "      <td>0.00 mg</td>\n",
              "      <td>73.43 g</td>\n",
              "    </tr>\n",
              "    <tr>\n",
              "      <th>8788</th>\n",
              "      <td>8788</td>\n",
              "      <td>Beef, raw, all grades, trimmed to 0\" fat, sepa...</td>\n",
              "      <td>100 g</td>\n",
              "      <td>121</td>\n",
              "      <td>3g</td>\n",
              "      <td>1.1g</td>\n",
              "      <td>60mg</td>\n",
              "      <td>53.00 mg</td>\n",
              "      <td>64.2 mg</td>\n",
              "      <td>4.00 mcg</td>\n",
              "      <td>...</td>\n",
              "      <td>3.04 g</td>\n",
              "      <td>1.086 g</td>\n",
              "      <td>1.266 g</td>\n",
              "      <td>0.233 g</td>\n",
              "      <td>60.00 mg</td>\n",
              "      <td>0.0 g</td>\n",
              "      <td>1.10 g</td>\n",
              "      <td>0.00 mg</td>\n",
              "      <td>0.00 mg</td>\n",
              "      <td>73.43 g</td>\n",
              "    </tr>\n",
              "  </tbody>\n",
              "</table>\n",
              "<p>3 rows × 77 columns</p>\n",
              "</div>\n",
              "      <button class=\"colab-df-convert\" onclick=\"convertToInteractive('df-027dc290-f6e7-4992-964e-cd6e7087933f')\"\n",
              "              title=\"Convert this dataframe to an interactive table.\"\n",
              "              style=\"display:none;\">\n",
              "        \n",
              "  <svg xmlns=\"http://www.w3.org/2000/svg\" height=\"24px\"viewBox=\"0 0 24 24\"\n",
              "       width=\"24px\">\n",
              "    <path d=\"M0 0h24v24H0V0z\" fill=\"none\"/>\n",
              "    <path d=\"M18.56 5.44l.94 2.06.94-2.06 2.06-.94-2.06-.94-.94-2.06-.94 2.06-2.06.94zm-11 1L8.5 8.5l.94-2.06 2.06-.94-2.06-.94L8.5 2.5l-.94 2.06-2.06.94zm10 10l.94 2.06.94-2.06 2.06-.94-2.06-.94-.94-2.06-.94 2.06-2.06.94z\"/><path d=\"M17.41 7.96l-1.37-1.37c-.4-.4-.92-.59-1.43-.59-.52 0-1.04.2-1.43.59L10.3 9.45l-7.72 7.72c-.78.78-.78 2.05 0 2.83L4 21.41c.39.39.9.59 1.41.59.51 0 1.02-.2 1.41-.59l7.78-7.78 2.81-2.81c.8-.78.8-2.07 0-2.86zM5.41 20L4 18.59l7.72-7.72 1.47 1.35L5.41 20z\"/>\n",
              "  </svg>\n",
              "      </button>\n",
              "      \n",
              "  <style>\n",
              "    .colab-df-container {\n",
              "      display:flex;\n",
              "      flex-wrap:wrap;\n",
              "      gap: 12px;\n",
              "    }\n",
              "\n",
              "    .colab-df-convert {\n",
              "      background-color: #E8F0FE;\n",
              "      border: none;\n",
              "      border-radius: 50%;\n",
              "      cursor: pointer;\n",
              "      display: none;\n",
              "      fill: #1967D2;\n",
              "      height: 32px;\n",
              "      padding: 0 0 0 0;\n",
              "      width: 32px;\n",
              "    }\n",
              "\n",
              "    .colab-df-convert:hover {\n",
              "      background-color: #E2EBFA;\n",
              "      box-shadow: 0px 1px 2px rgba(60, 64, 67, 0.3), 0px 1px 3px 1px rgba(60, 64, 67, 0.15);\n",
              "      fill: #174EA6;\n",
              "    }\n",
              "\n",
              "    [theme=dark] .colab-df-convert {\n",
              "      background-color: #3B4455;\n",
              "      fill: #D2E3FC;\n",
              "    }\n",
              "\n",
              "    [theme=dark] .colab-df-convert:hover {\n",
              "      background-color: #434B5C;\n",
              "      box-shadow: 0px 1px 3px 1px rgba(0, 0, 0, 0.15);\n",
              "      filter: drop-shadow(0px 1px 2px rgba(0, 0, 0, 0.3));\n",
              "      fill: #FFFFFF;\n",
              "    }\n",
              "  </style>\n",
              "\n",
              "      <script>\n",
              "        const buttonEl =\n",
              "          document.querySelector('#df-027dc290-f6e7-4992-964e-cd6e7087933f button.colab-df-convert');\n",
              "        buttonEl.style.display =\n",
              "          google.colab.kernel.accessAllowed ? 'block' : 'none';\n",
              "\n",
              "        async function convertToInteractive(key) {\n",
              "          const element = document.querySelector('#df-027dc290-f6e7-4992-964e-cd6e7087933f');\n",
              "          const dataTable =\n",
              "            await google.colab.kernel.invokeFunction('convertToInteractive',\n",
              "                                                     [key], {});\n",
              "          if (!dataTable) return;\n",
              "\n",
              "          const docLinkHtml = 'Like what you see? Visit the ' +\n",
              "            '<a target=\"_blank\" href=https://colab.research.google.com/notebooks/data_table.ipynb>data table notebook</a>'\n",
              "            + ' to learn more about interactive tables.';\n",
              "          element.innerHTML = '';\n",
              "          dataTable['output_type'] = 'display_data';\n",
              "          await google.colab.output.renderOutput(dataTable, element);\n",
              "          const docLink = document.createElement('div');\n",
              "          docLink.innerHTML = docLinkHtml;\n",
              "          element.appendChild(docLink);\n",
              "        }\n",
              "      </script>\n",
              "    </div>\n",
              "  </div>\n",
              "  "
            ]
          },
          "metadata": {},
          "execution_count": 118
        }
      ]
    },
    {
      "cell_type": "code",
      "source": [
        "df.shape"
      ],
      "metadata": {
        "colab": {
          "base_uri": "https://localhost:8080/"
        },
        "id": "GaZFLoC9hwK7",
        "outputId": "bfb05a19-a3b4-4c1c-e5ce-621a675b85a7"
      },
      "execution_count": 119,
      "outputs": [
        {
          "output_type": "execute_result",
          "data": {
            "text/plain": [
              "(8789, 77)"
            ]
          },
          "metadata": {},
          "execution_count": 119
        }
      ]
    },
    {
      "cell_type": "code",
      "source": [
        "df.info()"
      ],
      "metadata": {
        "colab": {
          "base_uri": "https://localhost:8080/"
        },
        "id": "8_jQewofhk5X",
        "outputId": "9992596e-b4cf-459b-9cd6-750c13748f44"
      },
      "execution_count": 120,
      "outputs": [
        {
          "output_type": "stream",
          "name": "stdout",
          "text": [
            "<class 'pandas.core.frame.DataFrame'>\n",
            "RangeIndex: 8789 entries, 0 to 8788\n",
            "Data columns (total 77 columns):\n",
            " #   Column                       Non-Null Count  Dtype \n",
            "---  ------                       --------------  ----- \n",
            " 0   Unnamed: 0                   8789 non-null   int64 \n",
            " 1   name                         8789 non-null   object\n",
            " 2   serving_size                 8789 non-null   object\n",
            " 3   calories                     8789 non-null   int64 \n",
            " 4   total_fat                    8789 non-null   object\n",
            " 5   saturated_fat                7199 non-null   object\n",
            " 6   cholesterol                  8789 non-null   object\n",
            " 7   sodium                       8789 non-null   object\n",
            " 8   choline                      8789 non-null   object\n",
            " 9   folate                       8789 non-null   object\n",
            " 10  folic_acid                   8789 non-null   object\n",
            " 11  niacin                       8789 non-null   object\n",
            " 12  pantothenic_acid             8789 non-null   object\n",
            " 13  riboflavin                   8789 non-null   object\n",
            " 14  thiamin                      8789 non-null   object\n",
            " 15  vitamin_a                    8789 non-null   object\n",
            " 16  vitamin_a_rae                8789 non-null   object\n",
            " 17  carotene_alpha               8789 non-null   object\n",
            " 18  carotene_beta                8789 non-null   object\n",
            " 19  cryptoxanthin_beta           8789 non-null   object\n",
            " 20  lutein_zeaxanthin            8789 non-null   object\n",
            " 21  lucopene                     8789 non-null   int64 \n",
            " 22  vitamin_b12                  8789 non-null   object\n",
            " 23  vitamin_b6                   8789 non-null   object\n",
            " 24  vitamin_c                    8789 non-null   object\n",
            " 25  vitamin_d                    8789 non-null   object\n",
            " 26  vitamin_e                    8789 non-null   object\n",
            " 27  tocopherol_alpha             8789 non-null   object\n",
            " 28  vitamin_k                    8789 non-null   object\n",
            " 29  calcium                      8789 non-null   object\n",
            " 30  copper                       8789 non-null   object\n",
            " 31  irom                         8789 non-null   object\n",
            " 32  magnesium                    8789 non-null   object\n",
            " 33  manganese                    8789 non-null   object\n",
            " 34  phosphorous                  8789 non-null   object\n",
            " 35  potassium                    8789 non-null   object\n",
            " 36  selenium                     8789 non-null   object\n",
            " 37  zink                         8789 non-null   object\n",
            " 38  protein                      8789 non-null   object\n",
            " 39  alanine                      8789 non-null   object\n",
            " 40  arginine                     8789 non-null   object\n",
            " 41  aspartic_acid                8789 non-null   object\n",
            " 42  cystine                      8789 non-null   object\n",
            " 43  glutamic_acid                8789 non-null   object\n",
            " 44  glycine                      8789 non-null   object\n",
            " 45  histidine                    8789 non-null   object\n",
            " 46  hydroxyproline               8789 non-null   object\n",
            " 47  isoleucine                   8789 non-null   object\n",
            " 48  leucine                      8789 non-null   object\n",
            " 49  lysine                       8789 non-null   object\n",
            " 50  methionine                   8789 non-null   object\n",
            " 51  phenylalanine                8789 non-null   object\n",
            " 52  proline                      8789 non-null   object\n",
            " 53  serine                       8789 non-null   object\n",
            " 54  threonine                    8789 non-null   object\n",
            " 55  tryptophan                   8789 non-null   object\n",
            " 56  tyrosine                     8789 non-null   object\n",
            " 57  valine                       8789 non-null   object\n",
            " 58  carbohydrate                 8789 non-null   object\n",
            " 59  fiber                        8789 non-null   object\n",
            " 60  sugars                       8789 non-null   object\n",
            " 61  fructose                     8789 non-null   object\n",
            " 62  galactose                    8789 non-null   object\n",
            " 63  glucose                      8789 non-null   object\n",
            " 64  lactose                      8789 non-null   object\n",
            " 65  maltose                      8789 non-null   object\n",
            " 66  sucrose                      8789 non-null   object\n",
            " 67  fat                          8789 non-null   object\n",
            " 68  saturated_fatty_acids        8789 non-null   object\n",
            " 69  monounsaturated_fatty_acids  8789 non-null   object\n",
            " 70  polyunsaturated_fatty_acids  8789 non-null   object\n",
            " 71  fatty_acids_total_trans      8789 non-null   object\n",
            " 72  alcohol                      8789 non-null   object\n",
            " 73  ash                          8789 non-null   object\n",
            " 74  caffeine                     8789 non-null   object\n",
            " 75  theobromine                  8789 non-null   object\n",
            " 76  water                        8789 non-null   object\n",
            "dtypes: int64(3), object(74)\n",
            "memory usage: 5.2+ MB\n"
          ]
        }
      ]
    },
    {
      "cell_type": "markdown",
      "source": [
        "drop the columns 'Unnamed: 0', 'name', 'serving_size'.\n",
        "If we want to use 'calories' as the target variable, separate features and calories.\n",
        "How many samples and features are there in the datase"
      ],
      "metadata": {
        "id": "BrVx4D2rhYZv"
      }
    },
    {
      "cell_type": "code",
      "source": [
        "df= df.drop(['Unnamed: 0', 'name', 'serving_size'],axis=1)"
      ],
      "metadata": {
        "id": "1BhsNEW4hH23"
      },
      "execution_count": 121,
      "outputs": []
    },
    {
      "cell_type": "code",
      "source": [
        "df.shape"
      ],
      "metadata": {
        "colab": {
          "base_uri": "https://localhost:8080/"
        },
        "id": "5NNL-CeBiU-t",
        "outputId": "c4719404-46ca-436d-ad77-f3665d956989"
      },
      "execution_count": 122,
      "outputs": [
        {
          "output_type": "execute_result",
          "data": {
            "text/plain": [
              "(8789, 74)"
            ]
          },
          "metadata": {},
          "execution_count": 122
        }
      ]
    },
    {
      "cell_type": "code",
      "source": [
        "X=df.drop(['calories'],axis=1)\n"
      ],
      "metadata": {
        "id": "VcPBgYIEieH9"
      },
      "execution_count": 123,
      "outputs": []
    },
    {
      "cell_type": "code",
      "source": [
        "y=df['calories']"
      ],
      "metadata": {
        "id": "gy4bguUOjgdP"
      },
      "execution_count": 124,
      "outputs": []
    },
    {
      "cell_type": "code",
      "source": [
        "X.shape"
      ],
      "metadata": {
        "colab": {
          "base_uri": "https://localhost:8080/"
        },
        "id": "sYFePCY-jt0L",
        "outputId": "b0271b1e-e27f-47d5-e44e-2492a916fa14"
      },
      "execution_count": 125,
      "outputs": [
        {
          "output_type": "execute_result",
          "data": {
            "text/plain": [
              "(8789, 73)"
            ]
          },
          "metadata": {},
          "execution_count": 125
        }
      ]
    },
    {
      "cell_type": "code",
      "source": [
        "y.shape"
      ],
      "metadata": {
        "colab": {
          "base_uri": "https://localhost:8080/"
        },
        "id": "bgG928E8kExu",
        "outputId": "f9bdbcf4-0aa6-479f-f9bf-7ac4c80f281a"
      },
      "execution_count": 126,
      "outputs": [
        {
          "output_type": "execute_result",
          "data": {
            "text/plain": [
              "(8789,)"
            ]
          },
          "metadata": {},
          "execution_count": 126
        }
      ]
    },
    {
      "cell_type": "markdown",
      "source": [
        "Remove the units of all the values.\n"
      ],
      "metadata": {
        "id": "xqXjAlCBkIO5"
      }
    },
    {
      "cell_type": "code",
      "source": [
        "X=X.replace('[a-zA-Z]', '',regex=True).astype(float)"
      ],
      "metadata": {
        "id": "4B6QsdMtkFXo"
      },
      "execution_count": 127,
      "outputs": []
    },
    {
      "cell_type": "markdown",
      "source": [
        "Split the dataset into training and test data with test size of 0.2 and random state 1.\n"
      ],
      "metadata": {
        "id": "40SnDYIu_g6f"
      }
    },
    {
      "cell_type": "code",
      "source": [
        "from sklearn.model_selection import train_test_split\n",
        "from sklearn.model_selection import train_test_split\n",
        "from sklearn.neural_network import MLPRegressor\n",
        "from sklearn.preprocessing import StandardScaler\n",
        "from sklearn.impute import SimpleImputer\n",
        "from sklearn.pipeline import Pipeline\n",
        "from sklearn.metrics import mean_absolute_error\n",
        "from sklearn.metrics import mean_absolute_percentage_error\n",
        "from sklearn.model_selection import GridSearchCV, cross_validate, ShuffleSplit"
      ],
      "metadata": {
        "id": "X3Qk2Yjok422"
      },
      "execution_count": 128,
      "outputs": []
    },
    {
      "cell_type": "code",
      "source": [
        "X_train,X_test,y_train,y_test = train_test_split(X,y,test_size=0.2,random_state =1)"
      ],
      "metadata": {
        "id": "iGFSCLcB_tG9"
      },
      "execution_count": 129,
      "outputs": []
    },
    {
      "cell_type": "markdown",
      "source": [
        "Create a pipeline to fill the missing values with 0 and to apply the standard scaling.\n",
        "Create a pipeline for the above mentioned preprocessing and MLPRegressor (with default\n",
        "parameters).\n",
        "\n"
      ],
      "metadata": {
        "id": "wHG6RhHOAqnH"
      }
    },
    {
      "cell_type": "code",
      "source": [
        "pipe = Pipeline([('impute',SimpleImputer(strategy =\"constant\",fill_value = 0)),('scaler',StandardScaler())])"
      ],
      "metadata": {
        "id": "Ml9IDhm7AKEl"
      },
      "execution_count": 130,
      "outputs": []
    },
    {
      "cell_type": "code",
      "source": [
        "clf = Pipeline([('preprocess',pipe),('classifier',MLPRegressor())])"
      ],
      "metadata": {
        "id": "_6S27sdwBjMI"
      },
      "execution_count": 131,
      "outputs": []
    },
    {
      "cell_type": "code",
      "source": [
        "clf.fit(X_train,y_train)"
      ],
      "metadata": {
        "colab": {
          "base_uri": "https://localhost:8080/"
        },
        "id": "N57xM1x7DKhZ",
        "outputId": "1d6a65e4-3a1b-4eb2-af1d-d3690074b6af"
      },
      "execution_count": 132,
      "outputs": [
        {
          "output_type": "stream",
          "name": "stderr",
          "text": [
            "/usr/local/lib/python3.8/dist-packages/sklearn/neural_network/_multilayer_perceptron.py:692: ConvergenceWarning: Stochastic Optimizer: Maximum iterations (200) reached and the optimization hasn't converged yet.\n",
            "  warnings.warn(\n"
          ]
        },
        {
          "output_type": "execute_result",
          "data": {
            "text/plain": [
              "Pipeline(steps=[('preprocess',\n",
              "                 Pipeline(steps=[('impute',\n",
              "                                  SimpleImputer(fill_value=0,\n",
              "                                                strategy='constant')),\n",
              "                                 ('scaler', StandardScaler())])),\n",
              "                ('classifier', MLPRegressor())])"
            ]
          },
          "metadata": {},
          "execution_count": 132
        }
      ]
    },
    {
      "cell_type": "markdown",
      "source": [
        "Calculate coefficient of determination R^2  on both training and test dataset."
      ],
      "metadata": {
        "id": "oOv1gzzoEHUi"
      }
    },
    {
      "cell_type": "code",
      "source": [
        "clf.score(X_train,y_train)"
      ],
      "metadata": {
        "colab": {
          "base_uri": "https://localhost:8080/"
        },
        "id": "SfgEUPO0DNTF",
        "outputId": "13d29cd1-ba10-46df-9c69-e834ecf01e1f"
      },
      "execution_count": 133,
      "outputs": [
        {
          "output_type": "execute_result",
          "data": {
            "text/plain": [
              "0.9966325170727026"
            ]
          },
          "metadata": {},
          "execution_count": 133
        }
      ]
    },
    {
      "cell_type": "code",
      "source": [
        "clf.score(X_test,y_test)"
      ],
      "metadata": {
        "colab": {
          "base_uri": "https://localhost:8080/"
        },
        "id": "Cv6uzSNHEYdg",
        "outputId": "3ad980ab-140f-4eb8-a7d7-feae298c25f5"
      },
      "execution_count": 134,
      "outputs": [
        {
          "output_type": "execute_result",
          "data": {
            "text/plain": [
              "0.9936528450972614"
            ]
          },
          "metadata": {},
          "execution_count": 134
        }
      ]
    },
    {
      "cell_type": "code",
      "source": [
        "print(clf.predict(X_train)[:5])"
      ],
      "metadata": {
        "colab": {
          "base_uri": "https://localhost:8080/"
        },
        "id": "th1_K3ZREbVI",
        "outputId": "dac7c314-a738-447a-b8e8-73b683e6a05e"
      },
      "execution_count": 135,
      "outputs": [
        {
          "output_type": "stream",
          "name": "stdout",
          "text": [
            "[ 62.21609054 224.92920925 182.26874221 379.08825638 186.01610377]\n"
          ]
        }
      ]
    },
    {
      "cell_type": "code",
      "source": [
        "print(y_test[:5])"
      ],
      "metadata": {
        "colab": {
          "base_uri": "https://localhost:8080/"
        },
        "id": "3reySlKrEj3D",
        "outputId": "b9e668e3-a02c-42ac-ef50-84109e77c97a"
      },
      "execution_count": 136,
      "outputs": [
        {
          "output_type": "stream",
          "name": "stdout",
          "text": [
            "8785    206\n",
            "8483    313\n",
            "6955    413\n",
            "6702    176\n",
            "6012    198\n",
            "Name: calories, dtype: int64\n"
          ]
        }
      ]
    },
    {
      "cell_type": "markdown",
      "source": [
        "use GridSearchCV on MLPRegressor with following property.\n",
        "\n",
        "Hyper-parameters to tune:\n",
        "\n",
        "learning_rate=['constant','invscaling']\n",
        "\n",
        "alpha = (1e-4, 1e-3, 1e-2)\n",
        "\n",
        "hidden_layer_sizes = [(10, 1), (10, 10), (10, 10, 10)]\n",
        "\n",
        "Regressor should have following parameters:\n",
        "\n",
        "learning_rate_init=0.01,\n",
        "\n",
        "tol=1e-2,\n",
        "\n",
        "max_iter=10000,\n",
        "\n",
        "solver='adam'\n",
        "\n",
        "Use cv = 3\n"
      ],
      "metadata": {
        "id": "ZTMSSpa1FmGp"
      }
    },
    {
      "cell_type": "code",
      "source": [
        "X_train_new = pipe.fit_transform(X_train)"
      ],
      "metadata": {
        "id": "P6A_SqxyErAj"
      },
      "execution_count": 137,
      "outputs": []
    },
    {
      "cell_type": "code",
      "source": [
        "learning_rate = ['constant','invscaling']\n",
        "alpha = (1e-4,1e-3,1e-2)\n",
        "hidden_layer_sizes=[(10,1),(10,10),(10,10,10)]\n"
      ],
      "metadata": {
        "id": "YV5sIbWfGIuq"
      },
      "execution_count": 138,
      "outputs": []
    },
    {
      "cell_type": "code",
      "source": [
        "parameters = dict(learning_rate=learning_rate,alpha=alpha,hidden_layer_sizes=hidden_layer_sizes)\n",
        "grid = GridSearchCV(MLPRegressor(learning_rate_init=0.01,tol = 1e-2,max_iter=10000,solver='adam'),cv=3,param_grid = parameters)"
      ],
      "metadata": {
        "id": "0QSbdaoYGeZ9"
      },
      "execution_count": 139,
      "outputs": []
    },
    {
      "cell_type": "code",
      "source": [
        "grid.fit(X_train_new,y_train)"
      ],
      "metadata": {
        "colab": {
          "base_uri": "https://localhost:8080/"
        },
        "id": "otvm-fuoHiUe",
        "outputId": "5e56aac5-08f6-4827-e8ea-1ea6010e7ca3"
      },
      "execution_count": 114,
      "outputs": [
        {
          "output_type": "execute_result",
          "data": {
            "text/plain": [
              "GridSearchCV(cv=3,\n",
              "             estimator=MLPRegressor(learning_rate_init=0.01, max_iter=10000,\n",
              "                                    tol=0.01),\n",
              "             param_grid={'alpha': (0.0001, 0.001, 0.01),\n",
              "                         'hidden_layer_sizes': [(10, 1), (10, 10),\n",
              "                                                (10, 10, 10)],\n",
              "                         'learning_rate': ['constant', 'invscaling']})"
            ]
          },
          "metadata": {},
          "execution_count": 114
        }
      ]
    },
    {
      "cell_type": "markdown",
      "source": [
        "Get the best parameters, estimator and score obtained by the above HPT.\n"
      ],
      "metadata": {
        "id": "TMUrtqUUIKEv"
      }
    },
    {
      "cell_type": "code",
      "source": [
        "grid.best_params_"
      ],
      "metadata": {
        "id": "Ame27EdyKvp_"
      },
      "execution_count": null,
      "outputs": []
    },
    {
      "cell_type": "code",
      "source": [
        "grid.best_score_"
      ],
      "metadata": {
        "id": "uMiCBQZ1KvQe"
      },
      "execution_count": null,
      "outputs": []
    },
    {
      "cell_type": "code",
      "source": [
        "cv = ShuffleSplit(n_splits=5, test_size=0.2, random_state=42)\n",
        "cv_results = cross_validate(clf,\n",
        "X_train,\n",
        "y_train,\n",
        "cv=cv,\n",
        "scoring=\"neg_mean_squared_error\",\n",
        "return_train_score=True,\n",
        "return_estimator=True,\n",
        "n_jobs=2)"
      ],
      "metadata": {
        "id": "r5iUa2UeIfQG"
      },
      "execution_count": 143,
      "outputs": []
    },
    {
      "cell_type": "code",
      "source": [
        "mlp_train_error = -1 * cv_results['train_score']\n",
        "mlp_test_error = -1 * cv_results['test_score']\n",
        "print(f\"Mean squared error of regression model on the train set:\\n\"\n",
        "f\"{mlp_train_error.mean():.3f} +/- {mlp_train_error.std():.3f}\")\n",
        "print(f\"Mean squared error of regression model on the test set:\\n\"\n",
        "f\"{mlp_test_error.mean():.3f} +/- {mlp_test_error.std():.3f}\")\n"
      ],
      "metadata": {
        "colab": {
          "base_uri": "https://localhost:8080/"
        },
        "id": "-1hTyO_aIlYH",
        "outputId": "848368be-90a7-41f7-f78b-cd1d51b2543d"
      },
      "execution_count": 144,
      "outputs": [
        {
          "output_type": "stream",
          "name": "stdout",
          "text": [
            "Mean squared error of regression model on the train set:\n",
            "135.165 +/- 13.109\n",
            "Mean squared error of regression model on the test set:\n",
            "296.103 +/- 103.494\n"
          ]
        }
      ]
    },
    {
      "cell_type": "code",
      "source": [],
      "metadata": {
        "id": "AmI-4C3OKWBm"
      },
      "execution_count": null,
      "outputs": []
    }
  ]
}